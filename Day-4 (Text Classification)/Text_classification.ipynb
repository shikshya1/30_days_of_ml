{
  "cells": [
    {
      "cell_type": "markdown",
      "metadata": {
        "id": "lasGv6eRHnZj"
      },
      "source": [
        "This notebook demostrates how to use several ML algorigthms for the text classification task. The models built for this purpose in this notebook are:\n",
        "\n",
        "1) Multinomial NB\n",
        "\n",
        "2) Logistic Regression\n",
        "\n",
        "3) SVM\n",
        "\n",
        "4) Random Forest Classifier\n",
        "\n",
        "5) LSTM + GLOVE\n",
        "\n",
        "6) BERT"
      ]
    },
    {
      "cell_type": "markdown",
      "metadata": {
        "id": "7L1JDvzH_Rpr"
      },
      "source": [
        "## Importing libraries"
      ]
    },
    {
      "cell_type": "code",
      "execution_count": 1,
      "metadata": {
        "colab": {
          "base_uri": "https://localhost:8080/"
        },
        "id": "o_w1Fg_exkvb",
        "outputId": "c2ddbfb2-a139-483e-8b0f-08e7dfcb9462"
      },
      "outputs": [
        {
          "output_type": "stream",
          "name": "stderr",
          "text": [
            "[nltk_data] Downloading package stopwords to /root/nltk_data...\n",
            "[nltk_data]   Unzipping corpora/stopwords.zip.\n",
            "[nltk_data] Downloading package punkt to /root/nltk_data...\n",
            "[nltk_data]   Unzipping tokenizers/punkt.zip.\n"
          ]
        }
      ],
      "source": [
        "import pandas as pd\n",
        "import numpy as np\n",
        "import seaborn as sns\n",
        "import matplotlib.pyplot as plt\n",
        "%matplotlib inline\n",
        "import spacy\n",
        "import re\n",
        "\n",
        "from collections import Counter\n",
        "import seaborn as sns \n",
        "import plotly.express as px\n",
        "import string\n",
        "import itertools\n",
        "import nltk\n",
        "from nltk.tokenize import word_tokenize\n",
        "from nltk.corpus import stopwords\n",
        "nltk.download('stopwords')\n",
        "nltk.download('punkt')\n",
        "stop_words = set(stopwords.words(\"english\"))\n",
        "\n",
        "\n",
        "import sklearn\n",
        "from sklearn.model_selection import train_test_split\n",
        "from sklearn.feature_extraction.text import CountVectorizer\n",
        "from sklearn.naive_bayes import MultinomialNB\n",
        "from sklearn.linear_model import LogisticRegression\n",
        "from sklearn.svm import LinearSVC\n",
        "from sklearn.metrics import accuracy_score\n",
        "from sklearn.metrics import confusion_matrix \n",
        "from sklearn import metrics\n",
        "from sklearn.metrics import roc_auc_score\n",
        "\n",
        "\n",
        "from tensorflow.keras.preprocessing.text import Tokenizer\n",
        "from tensorflow.keras.preprocessing.sequence import pad_sequences\n",
        "from tensorflow.keras.utils import to_categorical\n",
        "from tensorflow.keras.layers import Dense, Input, GlobalMaxPooling1D\n",
        "from tensorflow.keras.layers import Conv1D, MaxPooling1D, Embedding, LSTM\n",
        "from tensorflow.keras.models import Model, Sequential\n",
        "from tensorflow.keras.initializers import Constant\n"
      ]
    },
    {
      "cell_type": "markdown",
      "metadata": {
        "id": "26FL8G8W-8Bk"
      },
      "source": [
        "## Utils"
      ]
    },
    {
      "cell_type": "code",
      "execution_count": 2,
      "metadata": {
        "id": "wxcDuoMt_Hmh"
      },
      "outputs": [],
      "source": [
        "# Function to plot the accuracy and validation loss across training and test set\n",
        "\n",
        "def show_history(h):\n",
        "    epochs_trained = len(h.history['loss'])\n",
        "    plt.figure(figsize=(16, 6))\n",
        "\n",
        "    plt.subplot(1, 2, 1)\n",
        "    plt.plot(range(0, epochs_trained), h.history.get('accuracy'), label='Training')\n",
        "    plt.plot(range(0, epochs_trained), h.history.get('val_accuracy'), label='Validation')\n",
        "    plt.ylim([0., 1.])\n",
        "    plt.xlabel('Epochs')\n",
        "    plt.ylabel('Accuracy')\n",
        "    plt.legend()\n",
        "\n",
        "    plt.subplot(1, 2, 2)\n",
        "    plt.plot(range(0, epochs_trained), h.history.get('loss'), label='Training')\n",
        "    plt.plot(range(0, epochs_trained), h.history.get('val_loss'), label='Validation')\n",
        "    plt.xlabel('Epochs')\n",
        "    plt.ylabel('Loss')\n",
        "    plt.legend()\n",
        "    plt.show()"
      ]
    },
    {
      "cell_type": "code",
      "execution_count": 3,
      "metadata": {
        "id": "4qkfD0uf_DIU"
      },
      "outputs": [],
      "source": [
        "# Function to plot confusion matrix. \n",
        "# Ref:http://scikit-learn.org/stable/auto_examples/model_selection/plot_confusion_matrix.html\n",
        "\n",
        "\n",
        "def plot_confusion_matrix(cm, classes,\n",
        "                          normalize=False,\n",
        "                          title='Confusion matrix',\n",
        "                          cmap=plt.cm.Blues):\n",
        "    \"\"\"\n",
        "    This function prints and plots the confusion matrix.\n",
        "    Normalization can be applied by setting `normalize=True`.\n",
        "    \"\"\"\n",
        "    if normalize:\n",
        "        cm = cm.astype('float') / cm.sum(axis=1)[:, np.newaxis]\n",
        "\n",
        "    plt.imshow(cm, interpolation='nearest', cmap=cmap)\n",
        "    plt.title(title)\n",
        "    plt.colorbar()\n",
        "    tick_marks = np.arange(len(classes))\n",
        "    plt.xticks(tick_marks, classes, rotation=45)\n",
        "    plt.yticks(tick_marks, classes)\n",
        "\n",
        "    fmt = '.2f' if normalize else 'd'\n",
        "    thresh = cm.max() / 2.\n",
        "    for i, j in itertools.product(range(cm.shape[0]), range(cm.shape[1])):\n",
        "        plt.text(j, i, format(cm[i, j], fmt),\n",
        "                 horizontalalignment=\"center\",\n",
        "                 color=\"white\" if cm[i, j] > thresh else \"black\")\n",
        "\n",
        "    plt.tight_layout()\n",
        "    plt.ylabel('True label',fontsize=15)\n",
        "    plt.xlabel('Predicted label',fontsize=15)\n"
      ]
    },
    {
      "cell_type": "markdown",
      "metadata": {
        "id": "8PNeTlRh_KWr"
      },
      "source": [
        "## Data loading"
      ]
    },
    {
      "cell_type": "code",
      "execution_count": 4,
      "metadata": {
        "id": "mO7DF17KuqnX"
      },
      "outputs": [],
      "source": [
        "data_train = pd.read_csv('train.csv', usecols=['id','text','target'])\n",
        "\n",
        "data_test = pd.read_csv('test.csv', usecols=['id','text'])"
      ]
    },
    {
      "cell_type": "code",
      "execution_count": 5,
      "metadata": {
        "colab": {
          "base_uri": "https://localhost:8080/",
          "height": 206
        },
        "id": "pozkwQSNDJGN",
        "outputId": "0c87d0ad-855a-49e3-cad7-cfee26a5209f"
      },
      "outputs": [
        {
          "output_type": "execute_result",
          "data": {
            "text/plain": [
              "   id                                               text  target\n",
              "0   1  Our Deeds are the Reason of this #earthquake M...       1\n",
              "1   4             Forest fire near La Ronge Sask. Canada       1\n",
              "2   5  All residents asked to 'shelter in place' are ...       1\n",
              "3   6  13,000 people receive #wildfires evacuation or...       1\n",
              "4   7  Just got sent this photo from Ruby #Alaska as ...       1"
            ],
            "text/html": [
              "\n",
              "  <div id=\"df-44316b1b-8bf6-47cd-bebf-f23fc9102e38\">\n",
              "    <div class=\"colab-df-container\">\n",
              "      <div>\n",
              "<style scoped>\n",
              "    .dataframe tbody tr th:only-of-type {\n",
              "        vertical-align: middle;\n",
              "    }\n",
              "\n",
              "    .dataframe tbody tr th {\n",
              "        vertical-align: top;\n",
              "    }\n",
              "\n",
              "    .dataframe thead th {\n",
              "        text-align: right;\n",
              "    }\n",
              "</style>\n",
              "<table border=\"1\" class=\"dataframe\">\n",
              "  <thead>\n",
              "    <tr style=\"text-align: right;\">\n",
              "      <th></th>\n",
              "      <th>id</th>\n",
              "      <th>text</th>\n",
              "      <th>target</th>\n",
              "    </tr>\n",
              "  </thead>\n",
              "  <tbody>\n",
              "    <tr>\n",
              "      <th>0</th>\n",
              "      <td>1</td>\n",
              "      <td>Our Deeds are the Reason of this #earthquake M...</td>\n",
              "      <td>1</td>\n",
              "    </tr>\n",
              "    <tr>\n",
              "      <th>1</th>\n",
              "      <td>4</td>\n",
              "      <td>Forest fire near La Ronge Sask. Canada</td>\n",
              "      <td>1</td>\n",
              "    </tr>\n",
              "    <tr>\n",
              "      <th>2</th>\n",
              "      <td>5</td>\n",
              "      <td>All residents asked to 'shelter in place' are ...</td>\n",
              "      <td>1</td>\n",
              "    </tr>\n",
              "    <tr>\n",
              "      <th>3</th>\n",
              "      <td>6</td>\n",
              "      <td>13,000 people receive #wildfires evacuation or...</td>\n",
              "      <td>1</td>\n",
              "    </tr>\n",
              "    <tr>\n",
              "      <th>4</th>\n",
              "      <td>7</td>\n",
              "      <td>Just got sent this photo from Ruby #Alaska as ...</td>\n",
              "      <td>1</td>\n",
              "    </tr>\n",
              "  </tbody>\n",
              "</table>\n",
              "</div>\n",
              "      <button class=\"colab-df-convert\" onclick=\"convertToInteractive('df-44316b1b-8bf6-47cd-bebf-f23fc9102e38')\"\n",
              "              title=\"Convert this dataframe to an interactive table.\"\n",
              "              style=\"display:none;\">\n",
              "        \n",
              "  <svg xmlns=\"http://www.w3.org/2000/svg\" height=\"24px\"viewBox=\"0 0 24 24\"\n",
              "       width=\"24px\">\n",
              "    <path d=\"M0 0h24v24H0V0z\" fill=\"none\"/>\n",
              "    <path d=\"M18.56 5.44l.94 2.06.94-2.06 2.06-.94-2.06-.94-.94-2.06-.94 2.06-2.06.94zm-11 1L8.5 8.5l.94-2.06 2.06-.94-2.06-.94L8.5 2.5l-.94 2.06-2.06.94zm10 10l.94 2.06.94-2.06 2.06-.94-2.06-.94-.94-2.06-.94 2.06-2.06.94z\"/><path d=\"M17.41 7.96l-1.37-1.37c-.4-.4-.92-.59-1.43-.59-.52 0-1.04.2-1.43.59L10.3 9.45l-7.72 7.72c-.78.78-.78 2.05 0 2.83L4 21.41c.39.39.9.59 1.41.59.51 0 1.02-.2 1.41-.59l7.78-7.78 2.81-2.81c.8-.78.8-2.07 0-2.86zM5.41 20L4 18.59l7.72-7.72 1.47 1.35L5.41 20z\"/>\n",
              "  </svg>\n",
              "      </button>\n",
              "      \n",
              "  <style>\n",
              "    .colab-df-container {\n",
              "      display:flex;\n",
              "      flex-wrap:wrap;\n",
              "      gap: 12px;\n",
              "    }\n",
              "\n",
              "    .colab-df-convert {\n",
              "      background-color: #E8F0FE;\n",
              "      border: none;\n",
              "      border-radius: 50%;\n",
              "      cursor: pointer;\n",
              "      display: none;\n",
              "      fill: #1967D2;\n",
              "      height: 32px;\n",
              "      padding: 0 0 0 0;\n",
              "      width: 32px;\n",
              "    }\n",
              "\n",
              "    .colab-df-convert:hover {\n",
              "      background-color: #E2EBFA;\n",
              "      box-shadow: 0px 1px 2px rgba(60, 64, 67, 0.3), 0px 1px 3px 1px rgba(60, 64, 67, 0.15);\n",
              "      fill: #174EA6;\n",
              "    }\n",
              "\n",
              "    [theme=dark] .colab-df-convert {\n",
              "      background-color: #3B4455;\n",
              "      fill: #D2E3FC;\n",
              "    }\n",
              "\n",
              "    [theme=dark] .colab-df-convert:hover {\n",
              "      background-color: #434B5C;\n",
              "      box-shadow: 0px 1px 3px 1px rgba(0, 0, 0, 0.15);\n",
              "      filter: drop-shadow(0px 1px 2px rgba(0, 0, 0, 0.3));\n",
              "      fill: #FFFFFF;\n",
              "    }\n",
              "  </style>\n",
              "\n",
              "      <script>\n",
              "        const buttonEl =\n",
              "          document.querySelector('#df-44316b1b-8bf6-47cd-bebf-f23fc9102e38 button.colab-df-convert');\n",
              "        buttonEl.style.display =\n",
              "          google.colab.kernel.accessAllowed ? 'block' : 'none';\n",
              "\n",
              "        async function convertToInteractive(key) {\n",
              "          const element = document.querySelector('#df-44316b1b-8bf6-47cd-bebf-f23fc9102e38');\n",
              "          const dataTable =\n",
              "            await google.colab.kernel.invokeFunction('convertToInteractive',\n",
              "                                                     [key], {});\n",
              "          if (!dataTable) return;\n",
              "\n",
              "          const docLinkHtml = 'Like what you see? Visit the ' +\n",
              "            '<a target=\"_blank\" href=https://colab.research.google.com/notebooks/data_table.ipynb>data table notebook</a>'\n",
              "            + ' to learn more about interactive tables.';\n",
              "          element.innerHTML = '';\n",
              "          dataTable['output_type'] = 'display_data';\n",
              "          await google.colab.output.renderOutput(dataTable, element);\n",
              "          const docLink = document.createElement('div');\n",
              "          docLink.innerHTML = docLinkHtml;\n",
              "          element.appendChild(docLink);\n",
              "        }\n",
              "      </script>\n",
              "    </div>\n",
              "  </div>\n",
              "  "
            ]
          },
          "metadata": {},
          "execution_count": 5
        }
      ],
      "source": [
        "\n",
        "data_train.head(5)"
      ]
    },
    {
      "cell_type": "markdown",
      "metadata": {
        "id": "eFBa-7LCyNUx"
      },
      "source": [
        "## Data Exploration"
      ]
    },
    {
      "cell_type": "code",
      "execution_count": 6,
      "metadata": {
        "colab": {
          "base_uri": "https://localhost:8080/"
        },
        "id": "KKsk3S6PI17e",
        "outputId": "357d2511-23cc-46b6-8d51-2cc467ba5ca1"
      },
      "outputs": [
        {
          "output_type": "stream",
          "name": "stdout",
          "text": [
            "<class 'pandas.core.frame.DataFrame'>\n",
            "RangeIndex: 7613 entries, 0 to 7612\n",
            "Data columns (total 3 columns):\n",
            " #   Column  Non-Null Count  Dtype \n",
            "---  ------  --------------  ----- \n",
            " 0   id      7613 non-null   int64 \n",
            " 1   text    7613 non-null   object\n",
            " 2   target  7613 non-null   int64 \n",
            "dtypes: int64(2), object(1)\n",
            "memory usage: 178.6+ KB\n"
          ]
        }
      ],
      "source": [
        "data_train.info()\n"
      ]
    },
    {
      "cell_type": "code",
      "execution_count": 7,
      "metadata": {
        "colab": {
          "base_uri": "https://localhost:8080/",
          "height": 340
        },
        "id": "052TYam-utWH",
        "outputId": "a2ff054c-37cb-4144-ffb8-aa8a70e02646"
      },
      "outputs": [
        {
          "output_type": "stream",
          "name": "stderr",
          "text": [
            "/usr/local/lib/python3.7/dist-packages/seaborn/_decorators.py:43: FutureWarning: Pass the following variables as keyword args: x, y. From version 0.12, the only valid positional argument will be `data`, and passing other arguments without an explicit keyword will result in an error or misinterpretation.\n",
            "  FutureWarning\n"
          ]
        },
        {
          "output_type": "execute_result",
          "data": {
            "text/plain": [
              "Text(0, 0.5, 'samples')"
            ]
          },
          "metadata": {},
          "execution_count": 7
        },
        {
          "output_type": "display_data",
          "data": {
            "text/plain": [
              "<Figure size 432x288 with 1 Axes>"
            ],
            "image/png": "[encoded data removed]"
          },
          "metadata": {
            "needs_background": "light"
          }
        }
      ],
      "source": [
        "x = data_train.target.value_counts()\n",
        "sns.barplot(x.index, x)\n",
        "plt.gca().set_ylabel('samples')"
      ]
    },
    {
      "cell_type": "code",
      "execution_count": 8,
      "metadata": {
        "colab": {
          "base_uri": "https://localhost:8080/",
          "height": 435
        },
        "id": "BnxzdADvxpmh",
        "outputId": "fcc25149-aa87-436c-ecc3-3169156d996a"
      },
      "outputs": [
        {
          "output_type": "execute_result",
          "data": {
            "text/plain": [
              "Text(0.5, 0.98, 'Characters in text')"
            ]
          },
          "metadata": {},
          "execution_count": 8
        },
        {
          "output_type": "display_data",
          "data": {
            "text/plain": [
              "<Figure size 864x432 with 2 Axes>"
            ],
            "image/png": "[encoded data removed]"
          },
          "metadata": {
            "needs_background": "light"
          }
        }
      ],
      "source": [
        "fig, (ax1, ax2) = plt.subplots(1,2, figsize=(12,6))\n",
        "\n",
        "train_len1 = data_train[data_train['target']==1]['text'].str.len()\n",
        "ax1.hist(train_len1, color='red')\n",
        "ax1.set_title('Disaster tweet')\n",
        "\n",
        "\n",
        "train_len2= data_train[data_train['target']==0]['text'].str.len()\n",
        "ax2.hist(train_len2, color='blue')\n",
        "ax2.set_title('Non disaster text')\n",
        "\n",
        "fig.suptitle('Characters in text')"
      ]
    },
    {
      "cell_type": "markdown",
      "metadata": {
        "id": "ieXFV5EPz-24"
      },
      "source": [
        "### Removing special characters and expanding abbreviations"
      ]
    },
    {
      "cell_type": "code",
      "execution_count": 9,
      "metadata": {
        "id": "NkuzCxdRyWMq"
      },
      "outputs": [],
      "source": [
        "stop_words = set(stopwords.words(\"english\"))\n",
        "\n",
        "\n",
        "def clean_text(text):\n",
        "    text = text.lower()\n",
        "    \n",
        "    pattern = re.compile('http[s]?://(?:[a-zA-Z]|[0-9]|[$-_@.&+]|[!*\\(\\),]|(?:%[0-9a-fA-F][0-9a-fA-F]))+')\n",
        "    text = pattern.sub('', text)\n",
        "    text = \" \".join(filter(lambda x:x[0]!='@', text.split()))\n",
        "    emoji = re.compile(\"[\"\n",
        "                           u\"\\U0001F600-\\U0001FFFF\"  # emoticons\n",
        "                           u\"\\U0001F300-\\U0001F5FF\"  # symbols & pictographs\n",
        "                           u\"\\U0001F680-\\U0001F6FF\"  # transport & map symbols\n",
        "                           u\"\\U0001F1E0-\\U0001F1FF\"  # flags (iOS)\n",
        "                           u\"\\U00002702-\\U000027B0\"\n",
        "                           u\"\\U000024C2-\\U0001F251\"\n",
        "                           \"]+\", flags=re.UNICODE)\n",
        "    \n",
        "    text = emoji.sub(r'', text)\n",
        "    text = text.lower()\n",
        "    text = re.sub(r\"i'm\", \"i am\", text)\n",
        "    text = re.sub(r\"he's\", \"he is\", text)\n",
        "    text = re.sub(r\"she's\", \"she is\", text)\n",
        "    text = re.sub(r\"that's\", \"that is\", text)        \n",
        "    text = re.sub(r\"what's\", \"what is\", text)\n",
        "    text = re.sub(r\"where's\", \"where is\", text) \n",
        "    text = re.sub(r\"\\'ll\", \" will\", text)  \n",
        "    text = re.sub(r\"\\'ve\", \" have\", text)  \n",
        "    text = re.sub(r\"\\'re\", \" are\", text)\n",
        "    text = re.sub(r\"\\'d\", \" would\", text)\n",
        "    text = re.sub(r\"\\'ve\", \" have\", text)\n",
        "    text = re.sub(r\"won't\", \"will not\", text)\n",
        "    text = re.sub(r\"don't\", \"do not\", text)\n",
        "    text = re.sub(r\"did't\", \"did not\", text)\n",
        "    text = re.sub(r\"can't\", \"can not\", text)\n",
        "    text = re.sub(r\"it's\", \"it is\", text)\n",
        "    text = re.sub(r\"couldn't\", \"could not\", text)\n",
        "    text = re.sub(r\"have't\", \"have not\", text)\n",
        "    text = re.sub(r\"he's\", \"he is\", text)\n",
        "    text = re.sub(r\"there's\", \"there is\", text)\n",
        "    text = re.sub(r\"We're\", \"We are\", text)\n",
        "    text = re.sub(r\"That's\", \"That is\", text)\n",
        "    text = re.sub(r\"won't\", \"will not\", text)\n",
        "    text = re.sub(r\"they're\", \"they are\", text)\n",
        "    text = re.sub(r\"Can't\", \"Cannot\", text)\n",
        "    text = re.sub(r\"wasn't\", \"was not\", text)\n",
        "    text = re.sub(r\"don\\x89Ûªt\", \"do not\", text)\n",
        "    text = re.sub(r\"aren't\", \"are not\", text)\n",
        "    text = re.sub(r\"isn't\", \"is not\", text)\n",
        "    text = re.sub(r\"What's\", \"What is\", text)\n",
        "    text = re.sub(r\"haven't\", \"have not\", text)\n",
        "    text = re.sub(r\"hasn't\", \"has not\", text)\n",
        "    text = re.sub(r\"There's\", \"There is\", text)\n",
        "    text = re.sub(r\"He's\", \"He is\", text)\n",
        "    text = re.sub(r\"It's\", \"It is\", text)\n",
        "    text = re.sub(r\"You're\", \"You are\", text)\n",
        "    text = re.sub(r\"I'M\", \"I am\", text)\n",
        "    text = re.sub(r\"shouldn't\", \"should not\", text)\n",
        "    text = re.sub(r\"wouldn't\", \"would not\", text)\n",
        "    text = re.sub(r\"i'm\", \"I am\", text)\n",
        "    text = re.sub(r\"I\\x89Ûªm\", \"I am\", text)\n",
        "    text = re.sub(r\"I'm\", \"I am\", text)\n",
        "    text = re.sub(r\"Isn't\", \"is not\", text)\n",
        "    text = re.sub(r\"Here's\", \"Here is\", text)\n",
        "    text = re.sub(r\"you've\", \"you have\", text)\n",
        "    text = re.sub(r\"you\\x89Ûªve\", \"you have\", text)\n",
        "    text = re.sub(r\"we're\", \"we are\", text)\n",
        "    text = re.sub(r\"what's\", \"what is\", text)\n",
        "    text = re.sub(r\"couldn't\", \"could not\", text)\n",
        "    text = re.sub(r\"we've\", \"we have\", text)\n",
        "    text = re.sub(r\"it\\x89Ûªs\", \"it is\", text)\n",
        "    text = re.sub(r\"doesn\\x89Ûªt\", \"does not\", text)\n",
        "    text = re.sub(r\"It\\x89Ûªs\", \"It is\", text)\n",
        "    text = re.sub(r\"Here\\x89Ûªs\", \"Here is\", text)\n",
        "    text = re.sub(r\"who's\", \"who is\", text)\n",
        "    text = re.sub(r\"I\\x89Ûªve\", \"I have\", text)\n",
        "    text = re.sub(r\"y'all\", \"you all\", text)\n",
        "    text = re.sub(r\"can\\x89Ûªt\", \"cannot\", text)\n",
        "    text = re.sub(r\"would've\", \"would have\", text)\n",
        "    text = re.sub(r\"it'll\", \"it will\", text)\n",
        "    text = re.sub(r\"we'll\", \"we will\", text)\n",
        "    text = re.sub(r\"wouldn\\x89Ûªt\", \"would not\", text)\n",
        "    text = re.sub(r\"We've\", \"We have\", text)\n",
        "    text = re.sub(r\"he'll\", \"he will\", text)\n",
        "    text = re.sub(r\"Y'all\", \"You all\", text)\n",
        "    text = re.sub(r\"Weren't\", \"Were not\", text)\n",
        "    text = re.sub(r\"Didn't\", \"Did not\", text)\n",
        "    text = re.sub(r\"they'll\", \"they will\", text)\n",
        "    text = re.sub(r\"they'd\", \"they would\", text)\n",
        "    text = re.sub(r\"DON'T\", \"DO NOT\", text)\n",
        "    text = re.sub(r\"That\\x89Ûªs\", \"That is\", text)\n",
        "    text = re.sub(r\"they've\", \"they have\", text)\n",
        "    text = re.sub(r\"i'd\", \"I would\", text)\n",
        "    text = re.sub(r\"should've\", \"should have\", text)\n",
        "    text = re.sub(r\"You\\x89Ûªre\", \"You are\", text)\n",
        "    text = re.sub(r\"where's\", \"where is\", text)\n",
        "    text = re.sub(r\"Don\\x89Ûªt\", \"Do not\", text)\n",
        "    text = re.sub(r\"we'd\", \"we would\", text)\n",
        "    text = re.sub(r\"i'll\", \"I will\", text)\n",
        "    text = re.sub(r\"weren't\", \"were not\", text)\n",
        "    text = re.sub(r\"They're\", \"They are\", text)\n",
        "    text = re.sub(r\"Can\\x89Ûªt\", \"Cannot\", text)\n",
        "    text = re.sub(r\"you\\x89Ûªll\", \"you will\", text)\n",
        "    text = re.sub(r\"I\\x89Ûªd\", \"I would\", text)\n",
        "    text = re.sub(r\"let's\", \"let us\", text)\n",
        "    text = re.sub(r\"it's\", \"it is\", text)\n",
        "    text = re.sub(r\"can't\", \"cannot\", text)\n",
        "    text = re.sub(r\"don't\", \"do not\", text)\n",
        "    text = re.sub(r\"you're\", \"you are\", text)\n",
        "    text = re.sub(r\"i've\", \"I have\", text)\n",
        "    text = re.sub(r\"that's\", \"that is\", text)\n",
        "    text = re.sub(r\"i'll\", \"I will\", text)\n",
        "    text = re.sub(r\"doesn't\", \"does not\", text)\n",
        "    text = re.sub(r\"i'd\", \"I would\", text)\n",
        "    text = re.sub(r\"didn't\", \"did not\", text)\n",
        "    text = re.sub(r\"ain't\", \"am not\", text)\n",
        "    text = re.sub(r\"you'll\", \"you will\", text)\n",
        "    text = re.sub(r\"I've\", \"I have\", text)\n",
        "    text = re.sub(r\"Don't\", \"do not\", text)\n",
        "    text = re.sub(r\"I'll\", \"I will\", text)\n",
        "    text = re.sub(r\"I'd\", \"I would\", text)\n",
        "    text = re.sub(r\"Let's\", \"Let us\", text)\n",
        "    text = re.sub(r\"you'd\", \"You would\", text)\n",
        "    text = re.sub(r\"It's\", \"It is\", text)\n",
        "    text = re.sub(r\"Ain't\", \"am not\", text)\n",
        "    text = re.sub(r\"Haven't\", \"Have not\", text)\n",
        "    text = re.sub(r\"Could've\", \"Could have\", text)\n",
        "    text = re.sub(r\"youve\", \"you have\", text)  \n",
        "    text = re.sub(r\"donå«t\", \"do not\", text)\n",
        "    text = re.sub(r\"[,.\\\"\\'!@#$%^&*(){}?/;`~:<>+=-]\", \"\", text)\n",
        "    return text"
      ]
    },
    {
      "cell_type": "code",
      "execution_count": 10,
      "metadata": {
        "id": "LAfyk70fBk7K"
      },
      "outputs": [],
      "source": [
        "data_train['text'] =data_train['text'].apply(clean_text)"
      ]
    },
    {
      "cell_type": "code",
      "execution_count": 11,
      "metadata": {
        "colab": {
          "base_uri": "https://localhost:8080/"
        },
        "id": "OOjx5UBCHjEp",
        "outputId": "7c9f7d07-27f0-4ccb-bab9-a2fa14cd2c50"
      },
      "outputs": [
        {
          "output_type": "execute_result",
          "data": {
            "text/plain": [
              "0       our deeds are the reason of this earthquake ma...\n",
              "1                   forest fire near la ronge sask canada\n",
              "2       all residents asked to shelter in place are be...\n",
              "3       13000 people receive wildfires evacuation orde...\n",
              "4       just got sent this photo from ruby alaska as s...\n",
              "                              ...                        \n",
              "7608    two giant cranes holding a bridge collapse int...\n",
              "7609    the out of control wild fires in california ev...\n",
              "7610               m194 [0104 utc]5km s of volcano hawaii\n",
              "7611    police investigating after an ebike collided w...\n",
              "7612    the latest more homes razed by northern califo...\n",
              "Name: text, Length: 7613, dtype: object"
            ]
          },
          "metadata": {},
          "execution_count": 11
        }
      ],
      "source": [
        "data_train['text']"
      ]
    },
    {
      "cell_type": "markdown",
      "metadata": {
        "id": "tGMioEnm0iGl"
      },
      "source": [
        "### Data exploration"
      ]
    },
    {
      "cell_type": "code",
      "execution_count": 12,
      "metadata": {
        "id": "c6FdutA9BIdQ"
      },
      "outputs": [],
      "source": [
        "def preprocess_text(df):\n",
        "    head_lines = list()\n",
        "    lines = df[\"text\"].values.tolist()\n",
        "\n",
        "    full_text=[]\n",
        "\n",
        "    for line in lines:\n",
        "        full_text.append(' '.join([w for w in line.split(' ') if w not in stop_words]))\n",
        "\n",
        "    df['text']=full_text\n",
        "    return df"
      ]
    },
    {
      "cell_type": "code",
      "execution_count": 13,
      "metadata": {
        "colab": {
          "base_uri": "https://localhost:8080/",
          "height": 911
        },
        "id": "3yKJq5jh0F03",
        "outputId": "55f6fbee-5a44-499c-b244-4ab14c799fbb"
      },
      "outputs": [
        {
          "output_type": "display_data",
          "data": {
            "text/plain": [
              "<Figure size 1080x1080 with 1 Axes>"
            ],
            "image/png": "[encoded data removed]"
          },
          "metadata": {}
        }
      ],
      "source": [
        " ## Most common words\n",
        "\n",
        "\n",
        "df = preprocess_text(data_train)\n",
        "text=df['text']\n",
        "\n",
        "words = text.str.split(expand=True).unstack()\n",
        "result_count = Counter(words).most_common()\n",
        "result_df = pd.DataFrame(result_count).reset_index().drop(0) #converting to Dataframe and drop the Nones values\n",
        "\n",
        "\n",
        "#visualize result\n",
        "sns.set_theme(style=\"whitegrid\") \n",
        "f, ax = plt.subplots(figsize=(15, 15)) \n",
        "sns.barplot(y=result_df[0][0:30], x=result_df[1][0:30], data=result_df, palette=None)\n",
        "plt.ylabel('Words', color=\"blue\")  # Add an x-label to the axes.\n",
        "plt.xlabel('Count', color=\"blue\")  # Add a y-label to the axes.\n",
        "plt.title(\"Frequent Occuring words in Tweets\", color=\"blue\") \n",
        "plt.xticks(rotation=50);\n",
        "ax.tick_params(axis='x', colors='black')\n",
        "plt.show()"
      ]
    },
    {
      "cell_type": "code",
      "execution_count": 14,
      "metadata": {
        "colab": {
          "base_uri": "https://localhost:8080/",
          "height": 1000
        },
        "id": "zNJHF0ir5l9i",
        "outputId": "42936c1a-adff-440f-fd0e-5b4c978853e9"
      },
      "outputs": [
        {
          "output_type": "display_data",
          "data": {
            "text/plain": [
              "<Figure size 1080x720 with 1 Axes>"
            ],
            "image/png": "[encoded data removed]"
          },
          "metadata": {}
        },
        {
          "output_type": "display_data",
          "data": {
            "text/plain": [
              "<Figure size 1080x720 with 1 Axes>"
            ],
            "image/png": "[encoded data removed]"
          },
          "metadata": {}
        }
      ],
      "source": [
        "disaster = pd.DataFrame(df[df['target']==1]['text'].str.split(expand=True).unstack().value_counts()).reset_index()\n",
        "non_disaster = pd.DataFrame(df[df['target']==0]['text'].str.split(expand=True).unstack().value_counts()).reset_index()\n",
        "\n",
        "\n",
        "#vizualize result\n",
        "sns.set_theme(style=\"whitegrid\") \n",
        "f, ax = plt.subplots(figsize=(15, 10)) \n",
        "sns.barplot(y=disaster['index'][0:30], x=disaster[0][0:30], data=result_df, palette=None)\n",
        "plt.ylabel('Words', color=\"blue\")  # Add an x-label to the axes.\n",
        "plt.xlabel('Count', color=\"blue\")  # Add a y-label to the axes.\n",
        "plt.title(\"Frequent Occuring Words in disaster tweets\", color=\"blue\") \n",
        "plt.xticks(rotation=70);\n",
        "plt.show()\n",
        "\n",
        "\n",
        "#vizualize result\n",
        "sns.set_theme(style=\"whitegrid\") \n",
        "f, ax = plt.subplots(figsize=(15, 10)) \n",
        "sns.barplot(y=non_disaster['index'][0:30], x=non_disaster[0][0:30], data=result_df, palette=None)\n",
        "plt.ylabel('Words', color=\"blue\")  # Add an x-label to the axes.\n",
        "plt.xlabel('Count', color=\"blue\")  # Add a y-label to the axes.\n",
        "plt.title(\"Frequent Occuring Words in non-disaster tweets\", color=\"blue\") \n",
        "plt.xticks(rotation=70);\n",
        "plt.show()"
      ]
    },
    {
      "cell_type": "markdown",
      "metadata": {
        "id": "A_SLdpew91wh"
      },
      "source": [
        "## Modeling"
      ]
    },
    {
      "cell_type": "markdown",
      "metadata": {
        "id": "n41-nhnv95r-"
      },
      "source": [
        "#### Steps:\n",
        "\n",
        "1 Split the data into training and test sets (80-20 split)\n",
        "\n",
        "2 Extract features from the training data using CountVectorizer.\n",
        "\n",
        "3 Transform the test data into the same feature vector as the training data.\n",
        "\n",
        "4 Train the classifier\n",
        "\n",
        "5 Evaluate the classifier"
      ]
    },
    {
      "cell_type": "code",
      "execution_count": 15,
      "metadata": {
        "colab": {
          "base_uri": "https://localhost:8080/"
        },
        "id": "ERavAN4Z93Au",
        "outputId": "0ba0d15e-59db-406b-bb4e-f7934d93f7a0"
      },
      "outputs": [
        {
          "output_type": "stream",
          "name": "stdout",
          "text": [
            "(6090,) (6090,)\n",
            "(1523,) (1523,)\n"
          ]
        }
      ],
      "source": [
        "X_train, X_test, y_train, y_test = train_test_split(data_train['text'], data_train['target'], test_size=0.2,random_state=1)\n",
        "print(X_train.shape, y_train.shape)\n",
        "print(X_test.shape, y_test.shape)"
      ]
    },
    {
      "cell_type": "markdown",
      "metadata": {
        "id": "E_HaA4YU-EGb"
      },
      "source": [
        "### Multinomial NB\n"
      ]
    },
    {
      "cell_type": "code",
      "execution_count": 16,
      "metadata": {
        "colab": {
          "base_uri": "https://localhost:8080/",
          "height": 548
        },
        "id": "4qayPkDZ_6ry",
        "outputId": "83d179d0-d96a-4d03-b138-fe6f94036b6c"
      },
      "outputs": [
        {
          "output_type": "stream",
          "name": "stdout",
          "text": [
            "(6090, 13647) (1523, 13647)\n",
            "CPU times: user 3.69 ms, sys: 819 µs, total: 4.51 ms\n",
            "Wall time: 4.38 ms\n",
            "Accuracy:  0.8076165462902167\n",
            "ROC_AOC_Score:  0.8532453543039682\n"
          ]
        },
        {
          "output_type": "display_data",
          "data": {
            "text/plain": [
              "<Figure size 576x432 with 2 Axes>"
            ],
            "image/png": "[encoded data removed]"
          },
          "metadata": {}
        }
      ],
      "source": [
        "vect = CountVectorizer()\n",
        "X_train_dtm = vect.fit_transform(X_train)\n",
        "X_test_dtm = vect.transform(X_test)\n",
        "print(X_train_dtm.shape, X_test_dtm.shape)\n",
        "\n",
        "\n",
        "nb = MultinomialNB()\n",
        "%time nb.fit(X_train_dtm, y_train) \n",
        "y_pred_class = nb.predict(X_test_dtm)\n",
        "\n",
        "\n",
        "# Print accuracy:\n",
        "print(\"Accuracy: \", accuracy_score(y_test, y_pred_class))\n",
        "\n",
        "    \n",
        "# print the confusion matrix\n",
        "cnf_matrix = confusion_matrix(y_test, y_pred_class)\n",
        "plt.figure(figsize=(8,6))\n",
        "plot_confusion_matrix(cnf_matrix, classes=['Disaster','Non-disaster'],normalize=True,\n",
        "                      title='Confusion matrix with all features')\n",
        "\n",
        "# calculate AUC:\n",
        "y_pred_prob = nb.predict_proba(X_test_dtm)[:, 1]\n",
        "print(\"ROC_AOC_Score: \", roc_auc_score(y_test, y_pred_prob))"
      ]
    },
    {
      "cell_type": "markdown",
      "metadata": {
        "id": "2mRvWTepB6E7"
      },
      "source": [
        "### Logistic Regression"
      ]
    },
    {
      "cell_type": "code",
      "execution_count": 17,
      "metadata": {
        "colab": {
          "base_uri": "https://localhost:8080/",
          "height": 493
        },
        "id": "hlmNL-7MB8Zp",
        "outputId": "9c96eb93-8351-4f2c-9476-c6578a964195"
      },
      "outputs": [
        {
          "output_type": "stream",
          "name": "stdout",
          "text": [
            "Accuracy:  0.7944845699277742\n",
            "AUC:  0.8532453543039682\n"
          ]
        },
        {
          "output_type": "display_data",
          "data": {
            "text/plain": [
              "<Figure size 576x432 with 2 Axes>"
            ],
            "image/png": "[encoded data removed]"
          },
          "metadata": {}
        }
      ],
      "source": [
        "from sklearn.linear_model import LogisticRegression \n",
        "\n",
        "logreg = LogisticRegression(class_weight=\"balanced\") \n",
        "logreg.fit(X_train_dtm, y_train) \n",
        "\n",
        "y_pred_class = logreg.predict(X_test_dtm)\n",
        "\n",
        "# calculate evaluation measures:\n",
        "print(\"Accuracy: \", accuracy_score(y_test, y_pred_class))\n",
        "print(\"AUC: \", roc_auc_score(y_test, y_pred_prob))\n",
        "cnf_matrix = confusion_matrix(y_test, y_pred_class)\n",
        "plt.figure(figsize=(8,6))\n",
        "plot_confusion_matrix(cnf_matrix, classes=['Disaster','Non-disaster'],normalize=True,\n",
        "                      title='Confusion matrix with normalization')"
      ]
    },
    {
      "cell_type": "markdown",
      "metadata": {
        "id": "22ZzLXGtCZaq"
      },
      "source": [
        "### SVM"
      ]
    },
    {
      "cell_type": "code",
      "execution_count": 18,
      "metadata": {
        "colab": {
          "base_uri": "https://localhost:8080/",
          "height": 493
        },
        "id": "JkIodvTsCYmQ",
        "outputId": "6c4724d9-6732-45f3-c940-3d92c3be6fe7"
      },
      "outputs": [
        {
          "output_type": "stream",
          "name": "stdout",
          "text": [
            "Accuracy:  0.778069599474721\n",
            "AUC:  0.8532453543039682\n"
          ]
        },
        {
          "output_type": "display_data",
          "data": {
            "text/plain": [
              "<Figure size 576x432 with 2 Axes>"
            ],
            "image/png": "[encoded data removed]"
          },
          "metadata": {}
        }
      ],
      "source": [
        "from sklearn.svm import SVC\n",
        "\n",
        "vect = CountVectorizer(max_features=2000) \n",
        "X_train_dtm = vect.fit_transform(X_train) \n",
        "X_test_dtm = vect.transform(X_test)\n",
        "\n",
        "classifier = SVC(kernel = 'linear', random_state = 0, class_weight='balanced') \n",
        "classifier.fit(X_train_dtm, y_train) \n",
        "\n",
        "# Make predictions on test data\n",
        "y_pred_class = classifier.predict(X_test_dtm)\n",
        "\n",
        "# calculate evaluation measures:\n",
        "print(\"Accuracy: \", accuracy_score(y_test, y_pred_class))\n",
        "print(\"AUC: \", roc_auc_score(y_test, y_pred_prob))\n",
        "cnf_matrix = confusion_matrix(y_test, y_pred_class)\n",
        "plt.figure(figsize=(8,6))\n",
        "plot_confusion_matrix(cnf_matrix, classes=['Disaster','Non-disaster'],normalize=True,\n",
        "                      title='Confusion matrix with normalization')\n"
      ]
    },
    {
      "cell_type": "markdown",
      "metadata": {
        "id": "BWvmleJFSC35"
      },
      "source": [
        "### Random Forest"
      ]
    },
    {
      "cell_type": "code",
      "execution_count": 19,
      "metadata": {
        "colab": {
          "base_uri": "https://localhost:8080/",
          "height": 493
        },
        "id": "LenvdDnfChFW",
        "outputId": "db829318-d6e8-4044-d9fd-7ff382f766d1"
      },
      "outputs": [
        {
          "output_type": "stream",
          "name": "stdout",
          "text": [
            "Accuracy:  0.7570584372948129\n",
            "AUC:  0.8532453543039682\n"
          ]
        },
        {
          "output_type": "display_data",
          "data": {
            "text/plain": [
              "<Figure size 576x432 with 2 Axes>"
            ],
            "image/png": "[encoded data removed]"
          },
          "metadata": {}
        }
      ],
      "source": [
        "from sklearn.ensemble import RandomForestClassifier\n",
        "rf_classifier=RandomForestClassifier(n_estimators=10)\n",
        "\n",
        "rf_classifier.fit(X_train_dtm,y_train)\n",
        "y_pred_class=rf_classifier.predict(X_test_dtm)\n",
        "\n",
        "\n",
        "# calculate evaluation measures:\n",
        "print(\"Accuracy: \", accuracy_score(y_test, y_pred_class))\n",
        "print(\"AUC: \", roc_auc_score(y_test, y_pred_prob))\n",
        "cnf_matrix = confusion_matrix(y_test, y_pred_class)\n",
        "plt.figure(figsize=(8,6))\n",
        "plot_confusion_matrix(cnf_matrix, classes=['Disaster','Non-disaster'],normalize=True,\n",
        "                      title='Confusion matrix with normalization')"
      ]
    },
    {
      "cell_type": "markdown",
      "metadata": {
        "id": "CgH1l7Uceef3"
      },
      "source": [
        "## LSTM with Glove"
      ]
    },
    {
      "cell_type": "markdown",
      "metadata": {
        "id": "19rynxBonlZ6"
      },
      "source": [
        "##### Load glove and embeddings\n",
        "\n",
        "\n"
      ]
    },
    {
      "cell_type": "code",
      "execution_count": null,
      "metadata": {
        "id": "TK1TmiuYehB5"
      },
      "outputs": [],
      "source": [
        "%%capture\n",
        "try:\n",
        "    \n",
        "    from google.colab import files\n",
        "    \n",
        "    !wget -P DATAPATH http://nlp.stanford.edu/data/glove.twitter.27B.zip\n",
        "    !unzip DATAPATH/glove.twitter.27B.zip -d DATAPATH/glove.twitter.27B\n",
        "\n",
        "    \n",
        "    BASE_DIR = 'DATAPATH'\n",
        "    \n",
        "except ModuleNotFoundError:\n",
        "    \n",
        "    if not os.path.exists('Data/glove.6B'):\n",
        "        os.mkdir('Data/glove.6B')\n",
        "        \n",
        "        url='http://nlp.stanford.edu/data/glove.twitter.27B.zip'  \n",
        "        wget.download(url,'Data')  \n",
        "  \n",
        "        temp='Data/glove.twitter.27B.zip' \n",
        "        file = ZipFile(temp)  \n",
        "        file.extractall('Data/glove.twitter.27B') \n",
        "        file.close()\n",
        "        \n",
        "\n",
        "    \n",
        "    BASE_DIR = 'Data'\n",
        "\n",
        "import os\n",
        "\n",
        "GLOVE_DIR = os.path.join(BASE_DIR, 'glove.twitter.27B')"
      ]
    },
    {
      "cell_type": "code",
      "execution_count": null,
      "metadata": {
        "id": "XVrL3CJwmRpn"
      },
      "outputs": [],
      "source": [
        "sequence_length = data_train['text'].apply(lambda x : len(x.split()))\n",
        "MAX_SEQUENCE_LENGTH =max(sequence_length)\n",
        "\n",
        "MAX_NUM_WORDS = 20000 \n",
        "EMBEDDING_DIM = 200 \n",
        "VALIDATION_SPLIT = 0.2"
      ]
    },
    {
      "cell_type": "code",
      "execution_count": null,
      "metadata": {
        "id": "pckpoKWWrRFg"
      },
      "outputs": [],
      "source": [
        "\n",
        "\n",
        "tokenizer= Tokenizer(num_words=MAX_NUM_WORDS)\n",
        "tokenizer.fit_on_texts(data_train['text'])\n",
        "train_sequences = tokenizer.texts_to_sequences(data_train['text'])\n",
        "\n",
        "word_index = tokenizer.word_index\n",
        "\n",
        "print('Found %s unique tokens.' % len(word_index))"
      ]
    },
    {
      "cell_type": "code",
      "execution_count": null,
      "metadata": {
        "id": "itiyHKAZrcIv"
      },
      "outputs": [],
      "source": [
        "trainvalid_data = pad_sequences(train_sequences, maxlen=MAX_SEQUENCE_LENGTH)\n",
        "\n",
        "trainvalid_labels = data_train['target'].values\n",
        "\n",
        "\n",
        "# creating an index to shuffle the train and test dataset\n",
        "indices = np.arange(trainvalid_data.shape[0])\n",
        "np.random.shuffle(indices)\n",
        "\n",
        "\n",
        "trainvalid_data = trainvalid_data[indices]\n",
        "trainvalid_labels = trainvalid_labels[indices]\n",
        "num_validation_samples = int(VALIDATION_SPLIT * trainvalid_data.shape[0])\n",
        "x_train = trainvalid_data[:-num_validation_samples]\n",
        "y_train = trainvalid_labels[:-num_validation_samples]\n",
        "x_val = trainvalid_data[-num_validation_samples:]\n",
        "y_val = trainvalid_labels[-num_validation_samples:]\n"
      ]
    },
    {
      "cell_type": "markdown",
      "metadata": {
        "id": "fXNq36kjsOVt"
      },
      "source": [
        "#### Embedding layer"
      ]
    },
    {
      "cell_type": "code",
      "execution_count": null,
      "metadata": {
        "id": "r6C4bm2dSRNl"
      },
      "outputs": [],
      "source": [
        "embeddings_index={}\n",
        "\n",
        "with open('/content/DATAPATH/glove.twitter.27B/glove.twitter.27B.200d.txt', encoding='utf8') as f:\n",
        "  for line in f:\n",
        "    values=line.split()\n",
        "    word=values[0]\n",
        "    coefs = np.asarray(values[1:], dtype='float32')\n",
        "    embeddings_index[word] =coefs\n",
        "\n",
        "print('Found %s word vectors in Glove embeddings.' % len(embeddings_index))\n",
        "\n",
        "num_words = min(MAX_NUM_WORDS, len(word_index)) + 1\n",
        "\n",
        "embedding_matrix = np.zeros((num_words, EMBEDDING_DIM))\n",
        "\n",
        "embedding_matrix = np.zeros((num_words, EMBEDDING_DIM))\n",
        "for word, i in word_index.items():\n",
        "    if i > MAX_NUM_WORDS:\n",
        "        continue\n",
        "    embedding_vector = embeddings_index.get(word)\n",
        "    if embedding_vector is not None:\n",
        "        # words not found in embedding index will be all-zeros.\n",
        "        embedding_matrix[i] = embedding_vector\n",
        "\n",
        "# note that we set trainable is set to False  to keep the embeddings fixed\n",
        "embedding_layer = Embedding(num_words,\n",
        "                            EMBEDDING_DIM,\n",
        "                            embeddings_initializer=Constant(embedding_matrix),\n",
        "                            input_length=MAX_SEQUENCE_LENGTH,\n",
        "                            trainable=False)\n",
        "print(\"Preparing of embedding matrix is done\")"
      ]
    },
    {
      "cell_type": "code",
      "execution_count": null,
      "metadata": {
        "id": "qKEQqRI0uzyd"
      },
      "outputs": [],
      "source": [
        "model = Sequential()\n",
        "model.add(embedding_layer)\n",
        "model.add(LSTM(64, dropout=0.2, recurrent_dropout=0.25))\n",
        "model.add(Dense(1, activation='sigmoid'))\n",
        "\n",
        "model.compile(loss='binary_crossentropy', optimizer='adam', metrics=['acc'])\n",
        "\n",
        "history = model.fit(x_train, y_train, batch_size=64, epochs=3, validation_data=(x_val, y_val), verbose=2)\n"
      ]
    },
    {
      "cell_type": "code",
      "execution_count": null,
      "metadata": {
        "id": "XOKTJ4RdvQJY"
      },
      "outputs": [],
      "source": [
        "# model = Sequential()\n",
        "# model.add(Embedding(MAX_NUM_WORDS, 128))\n",
        "# model.add(LSTM(64, dropout=0.3, recurrent_dropout=0.2))\n",
        "# model.add(Dense(1, activation='sigmoid'))\n",
        "# model.compile(loss='binary_crossentropy',optimizer='adam', metrics=['accuracy'])\n",
        "# print('Training the RNN')\n",
        "\n",
        "# history = model.fit(x_train, y_train,\n",
        "#           batch_size=64,\n",
        "#           epochs=10,\n",
        "#           validation_data=(x_val, y_val))"
      ]
    },
    {
      "cell_type": "code",
      "execution_count": null,
      "metadata": {
        "id": "csY-nzNxxMeh"
      },
      "outputs": [],
      "source": [
        "# show_history(history)"
      ]
    },
    {
      "cell_type": "code",
      "execution_count": null,
      "metadata": {
        "id": "a0zaNTONR8FZ"
      },
      "outputs": [],
      "source": [
        "# Plot results\n",
        "acc = history.history['acc']\n",
        "val_acc = history.history['val_acc']\n",
        "loss = history.history['loss']\n",
        "val_loss = history.history['val_loss']\n",
        "\n",
        "epochs = range(1, len(acc)+1)\n",
        "\n",
        "plt.plot(epochs, acc, 'g', label='Training accuracy')\n",
        "plt.plot(epochs, val_acc, 'r', label='Validation accuracy')\n",
        "plt.title('Training and validation accuracy')\n",
        "plt.legend()\n",
        "\n",
        "plt.figure()\n",
        "\n",
        "plt.plot(epochs, loss, 'g', label='Training loss')\n",
        "plt.plot(epochs, val_loss, 'r', label='Validation loss')\n",
        "plt.title('Training and validation loss')\n",
        "plt.legend()\n",
        "\n",
        "plt.show()"
      ]
    },
    {
      "cell_type": "code",
      "execution_count": null,
      "metadata": {
        "id": "envA3SjWxas0"
      },
      "outputs": [],
      "source": [
        "def predict_text(s):\n",
        "\n",
        "    s= clean_text(s)\n",
        "    tokens = word_tokenize(s)\n",
        "    test_sequences = tokenizer.texts_to_sequences(tokens)\n",
        "    print(test_sequences)\n",
        "    test_review_pad = pad_sequences(test_sequences, maxlen=MAX_SEQUENCE_LENGTH)\n",
        "    pred = model.predict(test_review_pad)\n",
        "    if pred[0][0]>=0.5: return \"Disaster post!\" \n",
        "    else: return \"It's not a disaster post.\""
      ]
    },
    {
      "cell_type": "code",
      "execution_count": null,
      "metadata": {
        "id": "-HrTVBLj0X3P"
      },
      "outputs": [],
      "source": [
        "predict_text(\"There was a flood here.\t\")"
      ]
    },
    {
      "cell_type": "code",
      "execution_count": null,
      "metadata": {
        "id": "oRnILZUS0cSM"
      },
      "outputs": [],
      "source": [
        "print(tokenizer.texts_to_sequences(['fire burned house']))"
      ]
    },
    {
      "cell_type": "markdown",
      "metadata": {
        "id": "EmG4b_IQTwoJ"
      },
      "source": [
        "## BERT"
      ]
    },
    {
      "cell_type": "code",
      "execution_count": null,
      "metadata": {
        "id": "wwnoeh-9z8J8"
      },
      "outputs": [],
      "source": [
        "!pip install transformers"
      ]
    },
    {
      "cell_type": "code",
      "execution_count": null,
      "metadata": {
        "id": "ygWz91Mnz69o"
      },
      "outputs": [],
      "source": [
        "import tensorflow as tf\n",
        "from tensorflow.keras.layers import Input, Dense\n",
        "from tensorflow.keras.optimizers import Adam\n",
        "from tensorflow.keras.callbacks import EarlyStopping\n",
        "from tensorflow.keras.initializers import TruncatedNormal\n",
        "from tensorflow.keras.losses import CategoricalCrossentropy,BinaryCrossentropy\n",
        "from tensorflow.keras.metrics import CategoricalAccuracy,BinaryAccuracy\n",
        "from tensorflow.keras.utils import to_categorical\n",
        "from tensorflow.keras.utils import plot_model"
      ]
    },
    {
      "cell_type": "code",
      "execution_count": null,
      "metadata": {
        "id": "oIU1ciRCTxsy"
      },
      "outputs": [],
      "source": [
        "from transformers import AutoTokenizer, TFBertModel\n",
        "\n",
        "tokenizer = AutoTokenizer.from_pretrained('bert-base-uncased')\n",
        "bert = TFBertModel.from_pretrained('bert-base-uncased')"
      ]
    },
    {
      "cell_type": "code",
      "execution_count": null,
      "metadata": {
        "id": "nVBEsiSheL3O"
      },
      "outputs": [],
      "source": [
        "SEQ_LENGTH= max(len(x.split()) for x in data_train.text)\n",
        "\n",
        "max_len =SEQ_LENGTH"
      ]
    },
    {
      "cell_type": "code",
      "execution_count": null,
      "metadata": {
        "id": "Gg6UkF-TePr-"
      },
      "outputs": [],
      "source": [
        "tokenized_text = tokenizer(data_train['text'].tolist(),\n",
        "                           max_length=SEQ_LENGTH,\n",
        "                           truncation= True,\n",
        "                           padding='max_length',\n",
        "                           add_special_tokens= True, return_token_type_ids= False,\n",
        "                           return_attention_mask= True, return_tensors='tf')\n",
        "\n",
        "X_input_ids = tokenized_text['input_ids']\n",
        "X_attention_mask = tokenized_text['attention_mask']"
      ]
    },
    {
      "cell_type": "code",
      "execution_count": null,
      "metadata": {
        "id": "Yr7y9dJmebc_"
      },
      "outputs": [],
      "source": [
        "arr = data_train['target'].values\n",
        "label= np.zeros((arr.size, max(arr)+1))\n",
        "label[np.arange(arr.size), arr]=1"
      ]
    },
    {
      "cell_type": "code",
      "execution_count": null,
      "metadata": {
        "id": "Tkcwp0vYes8Y"
      },
      "outputs": [],
      "source": [
        "dataset = tf.data.Dataset.from_tensor_slices((X_input_ids, X_attention_mask, label ))"
      ]
    },
    {
      "cell_type": "code",
      "execution_count": null,
      "metadata": {
        "id": "Nr-l8zGl0E7e"
      },
      "outputs": [],
      "source": [
        "for i in dataset.take(1):\n",
        "  print(i)"
      ]
    },
    {
      "cell_type": "code",
      "execution_count": null,
      "metadata": {
        "id": "oYi0f5BaLD77"
      },
      "outputs": [],
      "source": [
        "def map_function(input_ids, masks, label):\n",
        "  return({'input_ids':input_ids,'attention_mask':masks},label)\n",
        "\n",
        "dataset=dataset.map(map_function)"
      ]
    },
    {
      "cell_type": "code",
      "execution_count": null,
      "metadata": {
        "id": "8hTV9qtqLGGC"
      },
      "outputs": [],
      "source": [
        "dataset= dataset.shuffle(1000).batch(32)\n",
        "\n",
        "LEN_DF= len(list(dataset))\n",
        "split=0.9\n",
        "\n",
        "train_ds= dataset.take(round(split*LEN_DF))\n",
        "val_ds= dataset.skip(round(split*LEN_DF))"
      ]
    },
    {
      "cell_type": "code",
      "execution_count": null,
      "metadata": {
        "id": "f9RvLuxuLJjU"
      },
      "outputs": [],
      "source": [
        "input_ids = tf.keras.layers.Input(shape=(max_len,), dtype=tf.int32, name='input_ids')\n",
        "attention_mask = tf.keras.layers.Input(shape=(max_len,), dtype=tf.int32, name='attention_mask')\n",
        "\n",
        "embeddings= bert.bert(input_ids, attention_mask)[1]\n",
        "\n",
        "out= tf.keras.layers.Dropout(0.1)(embeddings)\n",
        "out= tf.keras.layers.Dense(128, activation='relu')(out)\n",
        "out= tf.keras.layers.Dropout(0.1)(out)\n",
        "out= tf.keras.layers.Dense(32, activation='relu')(out)\n",
        "y= tf.keras.layers.Dense(2, activation='softmax')(out)\n",
        "\n",
        "model= tf.keras.Model(inputs=[input_ids,attention_mask], outputs=y)\n",
        "\n",
        "model.layers[2].trainable= False"
      ]
    },
    {
      "cell_type": "code",
      "execution_count": null,
      "metadata": {
        "id": "XW7cNzCzLbFQ"
      },
      "outputs": [],
      "source": [
        "optimizer = tf.keras.optimizers.Adam(learning_rate=1e-5, decay=1e-6)\n",
        "loss= tf.keras.losses.CategoricalCrossentropy()\n",
        "# acc= tf.keras.metrics.CategoricalAccuracy('accuracy')\n",
        "\n",
        "model.compile(optimizer=optimizer, loss= loss, metrics=['accuracy'])\n",
        "\n",
        "history= model.fit(train_ds, validation_data=val_ds, epochs=30, batch_size=64)\n"
      ]
    },
    {
      "cell_type": "code",
      "execution_count": null,
      "metadata": {
        "id": "UWuRiV4MMJtQ"
      },
      "outputs": [],
      "source": [
        "show_history(history)"
      ]
    },
    {
      "cell_type": "code",
      "execution_count": null,
      "metadata": {
        "id": "BluHb6FMMBEX"
      },
      "outputs": [],
      "source": [
        "def prep_text(text):\n",
        "  tokens= tokenizer.encode_plus(text, max_length = SEQ_LENGTH,\n",
        "                                truncation=True, padding='max_length',\n",
        "                                add_special_tokens=True, return_token_type_ids=False,\n",
        "                                return_tensors='tf')\n",
        "  return{\n",
        "      'input_ids': tf.cast(tokens['input_ids'], tf.float64),\n",
        "      'attention_mask': tf.cast(tokens['attention_mask'], tf.float64)\n",
        "  }\n",
        "\n",
        "\n",
        "test =prep_text(\"The movie was fire\")\n",
        "probs=model.predict(test)\n",
        "\n",
        "np.argmax(probs[0])"
      ]
    },
    {
      "cell_type": "markdown",
      "metadata": {
        "id": "_dimug_y0EI_"
      },
      "source": []
    }
  ],
  "metadata": {
    "accelerator": "GPU",
    "colab": {
      "collapsed_sections": [],
      "provenance": []
    },
    "gpuClass": "standard",
    "kernelspec": {
      "display_name": "Python 3",
      "name": "python3"
    },
    "language_info": {
      "name": "python"
    }
  },
  "nbformat": 4,
  "nbformat_minor": 0
}